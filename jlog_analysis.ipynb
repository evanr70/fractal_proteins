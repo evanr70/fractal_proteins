{
 "cells": [
  {
   "cell_type": "markdown",
   "metadata": {},
   "source": [
    "# Analyse jlogs!"
   ]
  },
  {
   "cell_type": "code",
   "execution_count": 1,
   "metadata": {},
   "outputs": [],
   "source": [
    "import numpy as np\n",
    "import networkx as nx\n",
    "import json\n",
    "import glob\n",
    "import matplotlib.pyplot as plt\n",
    "from pprint import pprint\n",
    "from collections import Counter"
   ]
  },
  {
   "cell_type": "markdown",
   "metadata": {},
   "source": [
    "## Find all the files in the jlog directory"
   ]
  },
  {
   "cell_type": "code",
   "execution_count": 2,
   "metadata": {
    "collapsed": true
   },
   "outputs": [],
   "source": [
    "jlogs = glob.glob('jlogs/*')"
   ]
  },
  {
   "cell_type": "markdown",
   "metadata": {},
   "source": [
    "## Retrieve all data from runs using the MEMB method"
   ]
  },
  {
   "cell_type": "code",
   "execution_count": 3,
   "metadata": {},
   "outputs": [],
   "source": [
    "memb = []\n",
    "for jlog in jlogs:\n",
    "    with open(jlog, 'r') as f:\n",
    "        data = json.load(f)\n",
    "        for line in data['run']['args']:\n",
    "            if 'method' in line:\n",
    "                method = line.split('=')[1]\n",
    "                if method == \"memb\":\n",
    "                    memb.append(data)"
   ]
  },
  {
   "cell_type": "markdown",
   "metadata": {},
   "source": [
    "## Calculate the fractal dimension for each PPIN"
   ]
  },
  {
   "cell_type": "code",
   "execution_count": 4,
   "metadata": {},
   "outputs": [],
   "source": [
    "num_boxes = [[m['graph_info'][0]['vertices']] + m['size'] for m in memb]\n",
    "num_edges = [m['graph_info'][0]['edges'] for m in memb]\n",
    "organism = [m['graph_info'][0]['graph'].split('/')[-1].split('-')[2] for m in memb]\n",
    "\n",
    "length = [[2 * r + 1 for r in [0] + m['radius']] for m in memb]    \n",
    "\n",
    "fractal_dimension = [-np.polyfit(np.log(l), np.log(b), 1)[0] for l, b in zip(length, num_boxes)]"
   ]
  },
  {
   "cell_type": "markdown",
   "metadata": {},
   "source": [
    "## Plot fractal dimension"
   ]
  },
  {
   "cell_type": "code",
   "execution_count": 5,
   "metadata": {},
   "outputs": [],
   "source": [
    "with open(\"frac_graph_steep.txt\", \"r\") as f:\n",
    "    data = f.read().splitlines()\n",
    "    \n",
    "steep = list(set(organism).intersection(set(data)))"
   ]
  },
  {
   "cell_type": "code",
   "execution_count": 6,
   "metadata": {},
   "outputs": [
    {
     "data": {
      "image/png": "[encoded data removed]",
      "text/plain": [
       "<Figure size 432x288 with 1 Axes>"
      ]
     },
     "metadata": {},
     "output_type": "display_data"
    }
   ],
   "source": [
    "# fig = plt.figure(figsize=(30, 30), dpi=300)\n",
    "fig = plt.figure()\n",
    "ax = fig.add_subplot(111)\n",
    "\n",
    "# ====================================== #\n",
    "\n",
    "l_x = np.linspace(start=0.5, stop=8, num=10)\n",
    "m1, c1 = 0.6, 0\n",
    "l_y = [m1 * i + c1 for i in l_x]\n",
    "plt.plot(l_x, l_y)\n",
    "\n",
    "# ====================================== #\n",
    "\n",
    "l_x = np.linspace(start=0.5, stop=14, num=10)\n",
    "m2, c2 = 0.34, 0.2\n",
    "l_y = [m2 * i + c2 for i in l_x]\n",
    "plt.plot(l_x, l_y)\n",
    "\n",
    "# ====================================== #\n",
    "\n",
    "x = np.log(num_edges)\n",
    "y = fractal_dimension\n",
    "\n",
    "colour = []\n",
    "steep = []\n",
    "shallow = []\n",
    "others = []\n",
    "\n",
    "for index, (px, py) in enumerate(zip(x, y)):\n",
    "    if py > m1 * px + c1:\n",
    "        colour.append('red')\n",
    "        steep.append(organism[index])\n",
    "    elif py < m2 * px + c2:\n",
    "        colour.append('green')\n",
    "        shallow.append(organism[index])\n",
    "    else:\n",
    "        colour.append('blue')\n",
    "        others.append(organism[index])\n",
    "\n",
    "ax.scatter(x, y, c=colour)\n",
    "# y = np.linspace(start=0.5, stop=4.5, num=10)\n",
    "\n",
    "# ax.set_xscale('log')\n",
    "# ax.scatter(range(len(fractal_dimension)), fractal_dimension)\n",
    "\n",
    "# for label, x, y in zip(organism, num_edges, fractal_dimension):\n",
    "#     if label not in data:\n",
    "#         plt.annotate(\n",
    "#             label,\n",
    "#             xy=(x, y), xytext=(-20, 20),\n",
    "#             textcoords='offset points', ha='right', va='bottom',\n",
    "#             bbox=dict(boxstyle='round,pad=0.5', fc='yellow', alpha=0.5),\n",
    "#             arrowprops=dict(arrowstyle = '->', connectionstyle='arc3,rad=0'))\n",
    "\n",
    "plt.show()"
   ]
  },
  {
   "cell_type": "code",
   "execution_count": 7,
   "metadata": {},
   "outputs": [
    {
     "data": {
      "text/plain": [
       "['Vitis_vinifera',\n",
       " 'Solanum_tuberosum',\n",
       " 'Pediculus_humanus',\n",
       " 'Pan_troglodytes',\n",
       " 'Ovis_aries',\n",
       " 'Nicotiana_tomentosiformis',\n",
       " 'Meleagris_gallopavo',\n",
       " 'Human_papillomavirus_10',\n",
       " 'Human_Herpesvirus_7',\n",
       " 'Human_Herpesvirus_3',\n",
       " 'Escherichia_coli_K12',\n",
       " 'Equus_caballus',\n",
       " 'Bacillus_subtilis_168',\n",
       " 'Apis_mellifera',\n",
       " 'Anopheles_gambiae_PEST',\n",
       " 'Zea_mays',\n",
       " 'Vaccinia_Virus',\n",
       " 'Tobacco_Mosaic_Virus',\n",
       " 'Ricinus_communis',\n",
       " 'Human_Herpesvirus_6B',\n",
       " 'Human_Herpesvirus_2',\n",
       " 'Chlorocebus_sabaeus',\n",
       " 'Cavia_porcellus',\n",
       " 'Ustilago_maydis_521',\n",
       " 'Human_Herpesvirus_6A',\n",
       " 'Simian_Virus_40',\n",
       " 'Dictyostelium_discoideum_AX4',\n",
       " 'Neurospora_crassa_OR74A',\n",
       " 'Mycobacterium_tuberculosis_H37Rv',\n",
       " 'Macaca_mulatta',\n",
       " 'Glycine_max',\n",
       " 'Chlamydomonas_reinhardtii',\n",
       " 'Strongylocentrotus_purpuratus',\n",
       " 'Human_papillomavirus_6b',\n",
       " 'Emericella_nidulans_FGSC_A4',\n",
       " 'Hepatitus_C_Virus']"
      ]
     },
     "execution_count": 7,
     "metadata": {},
     "output_type": "execute_result"
    }
   ],
   "source": [
    "steep"
   ]
  },
  {
   "cell_type": "code",
   "execution_count": 8,
   "metadata": {},
   "outputs": [
    {
     "data": {
      "text/plain": [
       "['Escherichia_coli_K12_MC4100_BW2952',\n",
       " 'Selaginella_moellendorffii',\n",
       " 'Sus_scrofa',\n",
       " 'Solanum_lycopersicum',\n",
       " 'Bos_taurus',\n",
       " 'Danio_rerio',\n",
       " 'Oryctolagus_cuniculus',\n",
       " 'Gallus_gallus',\n",
       " 'Human_Herpesvirus_8',\n",
       " 'Candida_albicans_SC5314',\n",
       " 'Xenopus_laevis',\n",
       " 'Plasmodium_falciparum_3D7',\n",
       " 'Rattus_norvegicus',\n",
       " 'Caenorhabditis_elegans',\n",
       " 'Arabidopsis_thaliana_Columbia',\n",
       " 'Mus_musculus',\n",
       " 'Schizosaccharomyces_pombe_972h',\n",
       " 'Drosophila_melanogaster',\n",
       " 'Escherichia_coli_K12_W3110',\n",
       " 'Homo_sapiens',\n",
       " 'Saccharomyces_cerevisiae_S288c']"
      ]
     },
     "execution_count": 8,
     "metadata": {},
     "output_type": "execute_result"
    }
   ],
   "source": [
    "shallow"
   ]
  },
  {
   "cell_type": "code",
   "execution_count": 9,
   "metadata": {},
   "outputs": [
    {
     "data": {
      "text/plain": [
       "['Simian_Immunodeficiency_Virus',\n",
       " 'Human_Immunodeficiency_Virus_2',\n",
       " 'Canis_familiaris',\n",
       " 'Cricetulus_griseus',\n",
       " 'Human_Herpesvirus_5',\n",
       " 'Oryza_sativa_Japonica',\n",
       " 'Escherichia_coli_K12_MG1655',\n",
       " 'Human_papillomavirus_16',\n",
       " 'Human_Herpesvirus_4',\n",
       " 'Human_Herpesvirus_1',\n",
       " 'Human_Immunodeficiency_Virus_1']"
      ]
     },
     "execution_count": 9,
     "metadata": {},
     "output_type": "execute_result"
    }
   ],
   "source": [
    "others"
   ]
  },
  {
   "cell_type": "code",
   "execution_count": null,
   "metadata": {
    "collapsed": true
   },
   "outputs": [],
   "source": []
  },
  {
   "cell_type": "code",
   "execution_count": null,
   "metadata": {
    "collapsed": true
   },
   "outputs": [],
   "source": []
  },
  {
   "cell_type": "code",
   "execution_count": null,
   "metadata": {
    "collapsed": true
   },
   "outputs": [],
   "source": []
  },
  {
   "cell_type": "code",
   "execution_count": null,
   "metadata": {},
   "outputs": [],
   "source": []
  }
 ],
 "metadata": {
  "kernelspec": {
   "display_name": "Python 3",
   "language": "python",
   "name": "python3"
  },
  "language_info": {
   "codemirror_mode": {
    "name": "ipython",
    "version": 3
   },
   "file_extension": ".py",
   "mimetype": "text/x-python",
   "name": "python",
   "nbconvert_exporter": "python",
   "pygments_lexer": "ipython3",
   "version": "3.6.3"
  }
 },
 "nbformat": 4,
 "nbformat_minor": 2
}
