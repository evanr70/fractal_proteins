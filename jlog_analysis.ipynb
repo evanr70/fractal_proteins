{
 "cells": [
  {
   "cell_type": "markdown",
   "metadata": {},
   "source": [
    "# Analyse jlogs!"
   ]
  },
  {
   "cell_type": "code",
   "execution_count": 166,
   "metadata": {
    "collapsed": true
   },
   "outputs": [],
   "source": [
    "import numpy as np\n",
    "import networkx as nx\n",
    "import json\n",
    "import glob\n",
    "import matplotlib.pyplot as plt\n",
    "from pprint import pprint\n",
    "from collections import Counter\n",
    "import matplotlib.patches as patches"
   ]
  },
  {
   "cell_type": "markdown",
   "metadata": {},
   "source": [
    "## Find all the files in the jlog directory"
   ]
  },
  {
   "cell_type": "code",
   "execution_count": 2,
   "metadata": {
    "collapsed": true
   },
   "outputs": [],
   "source": [
    "jlogs = glob.glob('jlogs/*')"
   ]
  },
  {
   "cell_type": "markdown",
   "metadata": {},
   "source": [
    "## Retrieve all data from runs using the MEMB method"
   ]
  },
  {
   "cell_type": "code",
   "execution_count": 3,
   "metadata": {
    "collapsed": true
   },
   "outputs": [],
   "source": [
    "memb = []\n",
    "for jlog in jlogs:\n",
    "    with open(jlog, 'r') as f:\n",
    "        data = json.load(f)\n",
    "        for line in data['run']['args']:\n",
    "            if 'method' in line:\n",
    "                method = line.split('=')[1]\n",
    "                if method == \"memb\":\n",
    "                    memb.append(data)"
   ]
  },
  {
   "cell_type": "markdown",
   "metadata": {},
   "source": [
    "## Calculate the fractal dimension for each PPIN"
   ]
  },
  {
   "cell_type": "code",
   "execution_count": 112,
   "metadata": {
    "collapsed": true
   },
   "outputs": [],
   "source": [
    "num_boxes = [[m['graph_info'][0]['vertices']] + m['size'] for m in memb]\n",
    "num_edges = [m['graph_info'][0]['edges'] for m in memb]\n",
    "num_nodes = [m['graph_info'][0]['vertices'] for m in memb]\n",
    "organism = np.array([m['graph_info'][0]['graph'].split('/')[-1].split('-')[2] for m in memb])\n",
    "\n",
    "length = np.array([[2 * r + 1 for r in [0] + m['radius']] for m in memb])\n",
    "\n",
    "fractal_dimension = np.array([-np.polyfit(np.log(l), np.log(b), 1)[0] for l, b in zip(length, num_boxes)])"
   ]
  },
  {
   "cell_type": "code",
   "execution_count": null,
   "metadata": {
    "collapsed": true
   },
   "outputs": [],
   "source": []
  },
  {
   "cell_type": "code",
   "execution_count": 121,
   "metadata": {
    "collapsed": true
   },
   "outputs": [],
   "source": [
    "with open(\"organisms.txt\", \"r\") as f:\n",
    "    orgo_data = f.read().splitlines()\n",
    "    common_names = {line.split(\"\\t\")[0]: line.split(\"\\t\")[1] for line in orgo_data}\n",
    "    kingdom = {line.split(\"\\t\")[0]: line.split(\"\\t\")[2] for line in orgo_data}"
   ]
  },
  {
   "cell_type": "markdown",
   "metadata": {},
   "source": [
    "## Plot fractal dimension"
   ]
  },
  {
   "cell_type": "code",
   "execution_count": 241,
   "metadata": {
    "scrolled": false
   },
   "outputs": [
    {
     "data": {
      "image/png": "[encoded data removed]",
      "text/plain": [
       "<Figure size 432x288 with 1 Axes>"
      ]
     },
     "metadata": {},
     "output_type": "display_data"
    }
   ],
   "source": [
    "# fig = plt.figure(figsize=(30, 30), dpi=300)\n",
    "fig = plt.figure()\n",
    "ax = fig.add_subplot(111)\n",
    "\n",
    "# ====================================== #\n",
    "\n",
    "l_x = np.linspace(start=0.5, stop=8, num=10)\n",
    "m1, c1 = 0.6, 0\n",
    "l_y = [m1 * i + c1 for i in l_x]\n",
    "# plt.plot(l_x, l_y)\n",
    "\n",
    "# ====================================== #\n",
    "\n",
    "l_x = np.linspace(start=0.5, stop=14, num=10)\n",
    "m2, c2 = 0.34, 0.2\n",
    "l_y = [m2 * i + c2 for i in l_x]\n",
    "# plt.plot(l_x, l_y)\n",
    "\n",
    "# ====================================== #\n",
    "\n",
    "colour = np.zeros_like(fractal_dimension, dtype='U16')\n",
    "\n",
    "kingdom_array = np.array([kingdom[o] for o in organism])\n",
    "\n",
    "animal_mask = kingdom_array == 'animal'\n",
    "plant_mask = kingdom_array == 'plant'\n",
    "fungus_mask = kingdom_array == 'fungus'\n",
    "protist_mask = kingdom_array == 'protist'\n",
    "bacterium_mask = kingdom_array == 'bacterium'\n",
    "virus_mask = kingdom_array == 'virus'\n",
    "\n",
    "\n",
    "masks = [animal_mask, plant_mask, fungus_mask, protist_mask, bacterium_mask, virus_mask]\n",
    "\n",
    "\n",
    "\n",
    "colour_options = ['red', 'blue', 'lime', 'magenta', 'cyan', 'salmon']\n",
    "marker_options = ['o', 's', 'D', '+', 'x', '^']\n",
    "kingdoms = ['animal', 'plant', 'fungus', 'protist', 'bacterium', 'virus']\n",
    "\n",
    "masks = [[kingdom_array == kingdom] for kingdom in kingdoms]\n",
    "\n",
    "for mask, colour_option in zip(masks, colour_options):\n",
    "    colour[mask] = colour_option\n",
    "\n",
    "x = np.log(num_nodes)# + np.log(num_edges) \n",
    "y = fractal_dimension\n",
    "        \n",
    "# plt.plot(np.unique(x), np.poly1d(np.polyfit(x, y, 1))(np.unique(x)))\n",
    "\n",
    "# ax.scatter(x, y, c=colour)\n",
    "\n",
    "# ylim = ax.get_ylim()\n",
    "# xlim = ax.get_xlim()\n",
    "\n",
    "\n",
    "\n",
    "\n",
    "\n",
    "split_sets = [[x[mask], y[mask]] for mask in masks]\n",
    "\n",
    "red_patch = patches.Patch(color='red', label='The red data')\n",
    "\n",
    "patch_list = [patches.Patch(color=c, label=k) for c, k in zip(colour_options, kingdoms)]\n",
    "\n",
    "# fig.legend(handles=patch_list, bbox_to_anchor=(0.85, 0.435))\n",
    "\n",
    "# fig2 = plt.figure(figsize=(10, 10))\n",
    "\n",
    "# ax = fig2.add_subplot(111)\n",
    "for i, point_set in enumerate(split_sets):\n",
    "    x, y = point_set\n",
    "#     ax = fig2.add_subplot(321 + i, title=kingdoms[i])\n",
    "    ax.scatter(x, y, marker=marker_options[i], label=kingdoms[i], c=colour_options[i])\n",
    "\n",
    "    ax.legend()\n",
    "#     ax.set_xlim(xlim)\n",
    "#     ax.set_ylim(ylim)\n",
    "#     ax.plot(np.unique(x), np.poly1d(np.polyfit(x, y, 1))(np.unique(x)), c=colour_options[i])\n",
    "\n",
    "ylim = ax.get_ylim()\n",
    "xlim = ax.get_xlim()\n",
    "\n",
    "max_fd_x = np.linspace(start=np.exp(0), stop=np.exp(12), num=10)\n",
    "max_fd_y = np.log2(max_fd_x)\n",
    "\n",
    "ax.plot(np.log(max_fd_x), max_fd_y, lw=3, c='black', label='fully connected')\n",
    "ax.legend()\n",
    "\n",
    "ax.set_xlim(xlim)\n",
    "ax.set_ylim(ylim)\n",
    "\n",
    "ax.fill_between(np.log(max_fd_x), max_fd_y, 100, facecolor='black', alpha=0.3)\n",
    "\n",
    "plt.show()"
   ]
  },
  {
   "cell_type": "code",
   "execution_count": null,
   "metadata": {},
   "outputs": [],
   "source": []
  },
  {
   "cell_type": "code",
   "execution_count": null,
   "metadata": {},
   "outputs": [],
   "source": []
  },
  {
   "cell_type": "code",
   "execution_count": null,
   "metadata": {},
   "outputs": [],
   "source": []
  },
  {
   "cell_type": "code",
   "execution_count": null,
   "metadata": {
    "collapsed": true
   },
   "outputs": [],
   "source": []
  },
  {
   "cell_type": "code",
   "execution_count": null,
   "metadata": {
    "collapsed": true,
    "scrolled": false
   },
   "outputs": [],
   "source": []
  },
  {
   "cell_type": "code",
   "execution_count": null,
   "metadata": {
    "collapsed": true
   },
   "outputs": [],
   "source": []
  },
  {
   "cell_type": "code",
   "execution_count": null,
   "metadata": {
    "collapsed": true
   },
   "outputs": [],
   "source": []
  },
  {
   "cell_type": "code",
   "execution_count": null,
   "metadata": {
    "collapsed": true
   },
   "outputs": [],
   "source": []
  },
  {
   "cell_type": "code",
   "execution_count": null,
   "metadata": {
    "collapsed": true
   },
   "outputs": [],
   "source": []
  },
  {
   "cell_type": "code",
   "execution_count": null,
   "metadata": {
    "collapsed": true
   },
   "outputs": [],
   "source": []
  }
 ],
 "metadata": {
  "kernelspec": {
   "display_name": "Python 3",
   "language": "python",
   "name": "python3"
  },
  "language_info": {
   "codemirror_mode": {
    "name": "ipython",
    "version": 3
   },
   "file_extension": ".py",
   "mimetype": "text/x-python",
   "name": "python",
   "nbconvert_exporter": "python",
   "pygments_lexer": "ipython3",
   "version": "3.6.3"
  }
 },
 "nbformat": 4,
 "nbformat_minor": 2
}
